{
 "cells": [
  {
   "cell_type": "code",
   "execution_count": 4,
   "id": "9170e6b7",
   "metadata": {},
   "outputs": [
    {
     "name": "stderr",
     "output_type": "stream",
     "text": [
      "/Users/batuhanozdemir/anaconda3/lib/python3.11/site-packages/openpyxl/worksheet/_read_only.py:79: UserWarning: Cell D1706 is marked as a date but the serial value 19286888.0 is outside the limits for dates. The cell will be treated as an error.\n",
      "  for idx, row in parser.parse():\n"
     ]
    },
    {
     "data": {
      "text/plain": [
       "'ninjafinal.xlsx'"
      ]
     },
     "execution_count": 4,
     "metadata": {},
     "output_type": "execute_result"
    }
   ],
   "source": [
    "import pandas as pd\n",
    "from sklearn.feature_extraction.text import TfidfVectorizer\n",
    "from sklearn.metrics.pairwise import cosine_similarity\n",
    "\n",
    "uploaded_file_path = 'ninja.xlsx'\n",
    "data = pd.read_excel(uploaded_file_path)\n",
    "\n",
    "# sütunlar\n",
    "required_columns = ['tygo_restaurant_name', 'restaurant_name', 'restaurant_code']\n",
    "if not all(column in data.columns for column in required_columns):\n",
    "    raise ValueError(\"The uploaded file must contain the following columns: 'tygo_restaurant_name', 'restaurant_name', 'restaurant_code'\")\n",
    "\n",
    "# TF-IDF\n",
    "tfidf_vectorizer = TfidfVectorizer().fit(data['restaurant_name'].astype(str))\n",
    "namety_tfidf = tfidf_vectorizer.transform(data['restaurant_name'].astype(str))\n",
    "nameym_tfidf = tfidf_vectorizer.transform(data['tygo_restaurant_name'].astype(str))\n",
    "\n",
    "# benzerliği hesapla\n",
    "similarity_matrix = cosine_similarity(nameym_tfidf, namety_tfidf)\n",
    "\n",
    "# eşleşmeler\n",
    "best_match_indices = similarity_matrix.argmax(axis=1)\n",
    "\n",
    "# eşleşmeleri ekle\n",
    "data['matched_restaurant_namety'] = data['restaurant_name'].iloc[best_match_indices].values\n",
    "data['matched_restaurant_codety'] = data['restaurant_code'].iloc[best_match_indices].values\n",
    "data['similarity_score'] = similarity_matrix.max(axis=1)\n",
    "\n",
    "\n",
    "output_file_path = 'ninjafinal.xlsx'\n",
    "data.to_excel(output_file_path, index=False)\n",
    "\n",
    "#import ace_tools as tools; tools.display_dataframe_to_user(name=\"Matched Restaurant Results\", dataframe=data)\n",
    "\n",
    "output_file_path\n"
   ]
  },
  {
   "cell_type": "code",
   "execution_count": null,
   "id": "bb622acb",
   "metadata": {},
   "outputs": [],
   "source": []
  }
 ],
 "metadata": {
  "kernelspec": {
   "display_name": "Python 3 (ipykernel)",
   "language": "python",
   "name": "python3"
  },
  "language_info": {
   "codemirror_mode": {
    "name": "ipython",
    "version": 3
   },
   "file_extension": ".py",
   "mimetype": "text/x-python",
   "name": "python",
   "nbconvert_exporter": "python",
   "pygments_lexer": "ipython3",
   "version": "3.11.5"
  }
 },
 "nbformat": 4,
 "nbformat_minor": 5
}
